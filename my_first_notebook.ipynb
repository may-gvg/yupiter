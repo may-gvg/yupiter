{
 "cells": [
  {
   "cell_type": "markdown",
   "id": "08fed9d3-28fc-46de-86f0-0c86d747e598",
   "metadata": {},
   "source": [
    "# My first notebook\n",
    "This is my first notebook. This text is made with Markdown."
   ]
  },
  {
   "cell_type": "code",
   "execution_count": 1,
   "id": "5e4b771e-62c0-4ef3-83c1-66daa8f0f26d",
   "metadata": {},
   "outputs": [
    {
     "name": "stdout",
     "output_type": "stream",
     "text": [
      "This is another cell, this text was printed by Python\n"
     ]
    }
   ],
   "source": [
    "print(\"This is another cell, this text was printed by Python\")"
   ]
  },
  {
   "cell_type": "code",
   "execution_count": null,
   "id": "a17a8186-40cc-4866-8f9a-6ba47fa3ba3d",
   "metadata": {},
   "outputs": [],
   "source": []
  }
 ],
 "metadata": {
  "kernelspec": {
   "display_name": "Python 3 (ipykernel)",
   "language": "python",
   "name": "python3"
  },
  "language_info": {
   "codemirror_mode": {
    "name": "ipython",
    "version": 3
   },
   "file_extension": ".py",
   "mimetype": "text/x-python",
   "name": "python",
   "nbconvert_exporter": "python",
   "pygments_lexer": "ipython3",
   "version": "3.9.4"
  }
 },
 "nbformat": 4,
 "nbformat_minor": 5
}
