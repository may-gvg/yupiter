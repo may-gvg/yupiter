{
 "cells": [
  {
   "cell_type": "markdown",
   "id": "3984b4d5-d932-4754-b649-8e39f4a36cb1",
   "metadata": {},
   "source": [
    "# functions\n",
    "To create function in python we put def os start ;)."
   ]
  },
  {
   "cell_type": "code",
   "execution_count": 8,
   "id": "cd0aa164-dc05-4c20-a08b-25760dfbdfea",
   "metadata": {},
   "outputs": [
    {
     "name": "stdout",
     "output_type": "stream",
     "text": [
      "5\n"
     ]
    }
   ],
   "source": [
    "def add(x,y):\n",
    "    print(x+y)\n",
    "    return\n",
    "\n",
    "add (3,2)"
   ]
  },
  {
   "cell_type": "markdown",
   "id": "aa7484e5-ae89-415c-a824-6e6fb07a9f0d",
   "metadata": {},
   "source": [
    "by wywołać funkcję wpisujemy jej nazwę oraz podajemy interesujące nas argumenty\n"
   ]
  },
  {
   "cell_type": "code",
   "execution_count": null,
   "id": "407f2724-15e7-4839-a60f-bc84e22fb94d",
   "metadata": {},
   "outputs": [],
   "source": []
  }
 ],
 "metadata": {
  "kernelspec": {
   "display_name": "Python 3 (ipykernel)",
   "language": "python",
   "name": "python3"
  },
  "language_info": {
   "codemirror_mode": {
    "name": "ipython",
    "version": 3
   },
   "file_extension": ".py",
   "mimetype": "text/x-python",
   "name": "python",
   "nbconvert_exporter": "python",
   "pygments_lexer": "ipython3",
   "version": "3.9.4"
  }
 },
 "nbformat": 4,
 "nbformat_minor": 5
}
